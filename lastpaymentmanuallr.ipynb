{
 "cells": [
  {
   "cell_type": "markdown",
   "metadata": {},
   "source": [
    "***GENERATED CODE FOR lastpaymentmanuallr PIPELINE.***"
   ]
  },
  {
   "cell_type": "markdown",
   "metadata": {},
   "source": [
    "***DON'T EDIT THIS CODE.***"
   ]
  },
  {
   "cell_type": "markdown",
   "metadata": {},
   "source": [
    "***CONNECTOR FUNCTIONS TO READ DATA FROM DATABRICKS FILESYSTEM.***"
   ]
  },
  {
   "cell_type": "code",
   "execution_count": null,
   "metadata": {},
   "outputs": [],
   "source": [
    "import datetime\n",
    "import logging\n",
    "import warnings\n",
    "warnings.filterwarnings('ignore')\n",
    "logging.basicConfig(format='%(levelname)s:%(message)s', level=logging.INFO)\n",
    "\n",
    "\n",
    "class DBFSConnector:\n",
    "\n",
    "    def fetch(spark, config):\n",
    "        df = spark.read.\\\n",
    "            options(header='true' if eval(config)[\"is_header\"] == \"Use Header Line\" else 'false',\n",
    "                    inferschema='true',\n",
    "                    delimiter=eval(config)[\"delimiter\"])\\\n",
    "            .csv(eval(config)['url'])\n",
    "        display(df.limit(2).toPandas())\n",
    "        return df\n",
    "\n",
    "    def put(df, spark, config):\n",
    "        return df.write.format('csv').options(header='true' if eval(config)[\"is_header\"] == \"Use Header Line\" else 'false',\n",
    "                                              delimiter=eval(config)[\"delimiter\"]).save((\"%s %s\") % (datetime.datetime.now().strftime(\"%Y-%m-%d %H.%M.%S\")+\"_\", eval(config)['url']))\n"
   ]
  },
  {
   "cell_type": "markdown",
   "metadata": {},
   "source": [
    "***TRANSFORMATIONS FUNCTIONS THAT WILL BE APPLIED ON DATA***"
   ]
  },
  {
   "cell_type": "code",
   "execution_count": null,
   "metadata": {},
   "outputs": [],
   "source": [
    "import json\n",
    "from pyspark.sql.functions import col, when\n",
    "from pyspark.sql.functions import mean, stddev, min, max, col\n",
    "\n",
    "\n",
    "class CleanseData:\n",
    "    # def __init__(self,df):\n",
    "    #     #print()\n",
    "\n",
    "    def replaceByMean(self, feature, df, mean_=-1):\n",
    "\n",
    "        meanValue = df.select(mean(col(feature.name)).alias(\n",
    "            'mean')).collect()[0][\"mean\"]\n",
    "        df.fillna(meanValue, subset=[feature.name])\n",
    "        df.withColumn(feature.name, when(col(feature.name) == \" \",\n",
    "                                         meanValue).otherwise(col(feature.name).cast(\"Integer\")))\n",
    "        return df\n",
    "\n",
    "    def replaceByMax(self, feature, df, max_=-1):\n",
    "        maxValue = df.select(max(col(feature.name)).alias('max')).collect()[\n",
    "            0][\"max\"]\n",
    "        df.fillna(maxValue, subset=[feature.name])\n",
    "        df = df.withColumn(feature.name,\n",
    "                           when(col(feature.name) == \" \", maxValue).otherwise(col(feature.name)))\n",
    "        return df\n",
    "\n",
    "    def replaceByMin(self, feature, df, min_=-1):\n",
    "        minValue = df.select(min(col(feature.name)).alias('min')).collect()[\n",
    "            0][\"min\"]\n",
    "        df.fillna(minValue, subset=[feature.name])\n",
    "        df = df.withColumn(feature.name,\n",
    "                           when(col(feature.name) == \" \", minValue).otherwise(col(feature.name)))\n",
    "        return df\n",
    "\n",
    "    def replaceByStandardDeviation(self, feature, df, stddev_=-1):\n",
    "        stddevValue = df.select(stddev(col(feature.name)).alias(\n",
    "            'stddev')).collect()[0][\"stddev\"]\n",
    "        df.fillna(stddevValue, subset=[feature.name])\n",
    "        df = df.withColumn(feature.name,\n",
    "                           when(col(feature.name) == \" \", stddevValue).otherwise(col(feature.name)))\n",
    "        return df\n",
    "\n",
    "    def replaceDateRandomly(self, feature, df):\n",
    "        fillValue = df.where(col(feature.name).isNotNull()\n",
    "                             ).head(1)[0][feature.name]\n",
    "        df.fillna(str(fillValue), subset=[feature.name])\n",
    "        df = df.withColumn(feature.name,\n",
    "                           when(col(feature.name) == \" \", fillValue).otherwise(col(feature.name)))\n",
    "        # print(\"CleanseData:replaceDateRandomly Schema : \", df.#printSchema())\n",
    "        return df\n",
    "\n",
    "    def replaceNullValues(self, fList, df):\n",
    "        featuresList = df.schema.fields\n",
    "        for featureObj in fList:\n",
    "            for feat in featuresList:\n",
    "                if featureObj[\"feature\"] in feat.name:\n",
    "                    featureName = feat\n",
    "                    if \"mean\" in featureObj[\"replaceby\"]:\n",
    "                        df = self.replaceByMean(featureName, df)\n",
    "                    elif \"max\" in featureObj[\"replaceby\"]:\n",
    "                        df = self.replaceByMax(featureName, df)\n",
    "                    elif \"min\" in featureObj[\"replaceby\"]:\n",
    "                        df = self.replaceByMin(featureName, df)\n",
    "                    elif \"stddev\" in featureObj[\"replaceby\"]:\n",
    "                        df = self.replaceByStandardDeviation(featureName, df)\n",
    "                    elif \"random\" in featureObj[\"replaceby\"]:\n",
    "                        df = self.replaceDateRandomly(featureName, df)\n",
    "        return df\n",
    "\n",
    "\n",
    "class TransformationMain:\n",
    "    # TODO: change df argument in run with following\n",
    "    def run(transformationDF, config):\n",
    "        configObj = json.loads(config)\n",
    "        featureData = configObj[\"FE\"]\n",
    "        transformationDF = CleanseData().replaceNullValues(featureData, transformationDF)\n",
    "        display(transformationDF.limit(2).toPandas())\n",
    "        return transformationDF\n"
   ]
  },
  {
   "cell_type": "markdown",
   "metadata": {},
   "source": [
    "***AUTOML FUNCTIONS***"
   ]
  },
  {
   "cell_type": "code",
   "execution_count": null,
   "metadata": {},
   "outputs": [],
   "source": [
    "from sklearn.linear_model import LinearRegression\n",
    "from sklearn.model_selection import train_test_split\n",
    "import pyspark\n",
    "\n",
    "\n",
    "def linear_regression(sparkDF, labels, features):\n",
    "    sparkDF.persist(pyspark.StorageLevel.MEMORY_AND_DISK)\n",
    "    df = (sparkDF.toPandas())\n",
    "    lr_model = LinearRegression()\n",
    "    X_train, X_test, y_train, y_test = train_test_split(\n",
    "        df[features], df[labels])\n",
    "    lr_model.fit(X_train, y_train)\n",
    "    display(\" Accuracy of Model : %s\" % lr_model.score(X_test, y_test))\n",
    "\n",
    "    data = {'model': lr_model,\n",
    "            'X_test': X_test,\n",
    "            'y_test': y_test,\n",
    "            'label': labels,\n",
    "            'columnNames': df.columns}\n",
    "    return data\n"
   ]
  },
  {
   "cell_type": "markdown",
   "metadata": {},
   "source": [
    "***READING DATAFRAME***"
   ]
  },
  {
   "cell_type": "code",
   "execution_count": null,
   "metadata": {},
   "outputs": [],
   "source": [
    "from pyspark.sql import SparkSession\n",
    "spark = SparkSession.builder.getOrCreate()\n",
    "\n",
    "#%run lastpaymentmanuallrHooks.ipynb\n",
    "try:\n",
    "\t#sourcePreExecutionHook()\n",
    "\n",
    "\tdbfs = DBFSConnector.fetch(spark, \"{'url': '/Whitespace/whitespace_days_to_first_last_decision_cleaned.csv', 'file_type': 'Delimeted', 'delimiter': ',', 'is_header': 'Use Header Line'}\")\n",
    "\t#sourcePostExecutionHook(dbfs)\n",
    "\n",
    "except Exception as ex: \n",
    "\tlogging.error(ex)\n"
   ]
  },
  {
   "cell_type": "markdown",
   "metadata": {},
   "source": [
    "***TRANSFORMING DATAFRAME***"
   ]
  },
  {
   "cell_type": "code",
   "execution_count": null,
   "metadata": {},
   "outputs": [],
   "source": [
    "#%run lastpaymentmanuallrHooks.ipynb\n",
    "try:\n",
    "\t#transformationPreExecutionHook()\n",
    "\n",
    "\tmanualfe = TransformationMain.run(dbfs,json.dumps( {\"FE\": [{\"transformationsData\": [{\"transformation_label\": \"novalue\"}], \"feature\": \"_c0\", \"transformation\": [{\"transformation\": \"novalue\", \"selectedAsDefault\": 1}], \"type\": \"numeric\", \"replaceby\": \"mean\", \"selected\": \"True\", \"stats\": {\"count\": \"52933\", \"mean\": \"263951.84\", \"stddev\": \"152938.41\", \"min\": \"6\", \"max\": \"530350\", \"missing\": \"0\"}, \"updatedLabel\": \"_c0\"}, {\"transformationsData\": [{\"transformation_label\": \"novalue\"}], \"feature\": \"first_decision\", \"type\": \"real\", \"selected\": \"True\", \"replaceby\": \"mean\", \"stats\": {\"count\": \"52933\", \"mean\": \"15.42\", \"stddev\": \"9.36\", \"min\": \"1.0\", \"max\": \"191.0\", \"missing\": \"0\"}, \"transformation\": [{\"transformation\": \"novalue\", \"selectedAsDefault\": 1}], \"updatedLabel\": \"first_decision\"}, {\"transformationsData\": [{\"transformation_label\": \"novalue\"}], \"feature\": \"last_decision\", \"type\": \"real\", \"selected\": \"True\", \"replaceby\": \"mean\", \"stats\": {\"count\": \"52933\", \"mean\": \"28.79\", \"stddev\": \"27.22\", \"min\": \"1.0\", \"max\": \"203.0\", \"missing\": \"0\"}, \"transformation\": [{\"transformation\": \"novalue\", \"selectedAsDefault\": 1}], \"updatedLabel\": \"last_decision\"}, {\"transformationsData\": [{\"transformation_label\": \"novalue\"}], \"feature\": \"CPTCodeID\", \"transformation\": [{\"transformation\": \"novalue\", \"selectedAsDefault\": 1}], \"type\": \"numeric\", \"replaceby\": \"mean\", \"selected\": \"True\", \"stats\": {\"count\": \"52933\", \"mean\": \"1820.14\", \"stddev\": \"1217.01\", \"min\": \"1\", \"max\": \"4895\", \"missing\": \"0\"}, \"updatedLabel\": \"CPTCodeID\"}, {\"transformationsData\": [{\"transformation_label\": \"novalue\"}], \"feature\": \"FacilityID\", \"transformation\": [{\"transformation\": \"novalue\", \"selectedAsDefault\": 1}], \"type\": \"numeric\", \"replaceby\": \"mean\", \"selected\": \"True\", \"stats\": {\"count\": \"52933\", \"mean\": \"102.35\", \"stddev\": \"48.42\", \"min\": \"0\", \"max\": \"179\", \"missing\": \"0\"}, \"updatedLabel\": \"FacilityID\"}, {\"transformationsData\": [{\"transformation_label\": \"novalue\"}], \"feature\": \"ProviderID\", \"transformation\": [{\"transformation\": \"novalue\", \"selectedAsDefault\": 1}], \"type\": \"numeric\", \"replaceby\": \"mean\", \"selected\": \"True\", \"stats\": {\"count\": \"52933\", \"mean\": \"134.35\", \"stddev\": \"74.62\", \"min\": \"0\", \"max\": \"263\", \"missing\": \"0\"}, \"updatedLabel\": \"ProviderID\"}, {\"transformationsData\": [{\"transformation_label\": \"novalue\"}], \"feature\": \"PayerId\", \"transformation\": [{\"transformation\": \"novalue\", \"selectedAsDefault\": 1}], \"type\": \"numeric\", \"replaceby\": \"mean\", \"selected\": \"True\", \"stats\": {\"count\": \"52933\", \"mean\": \"142.2\", \"stddev\": \"53.81\", \"min\": \"0\", \"max\": \"251\", \"missing\": \"0\"}, \"updatedLabel\": \"PayerId\"}, {\"transformationsData\": [{\"transformation_label\": \"novalue\"}], \"feature\": \"DepartmentID\", \"transformation\": [{\"transformation\": \"novalue\", \"selectedAsDefault\": 1}], \"type\": \"numeric\", \"replaceby\": \"mean\", \"selected\": \"True\", \"stats\": {\"count\": \"52933\", \"mean\": \"19.72\", \"stddev\": \"11.57\", \"min\": \"0\", \"max\": \"50\", \"missing\": \"0\"}, \"updatedLabel\": \"DepartmentID\"}, {\"transformationsData\": [{\"transformation_label\": \"novalue\"}], \"feature\": \"DiagnosisCodeID1\", \"type\": \"real\", \"selected\": \"True\", \"replaceby\": \"mean\", \"stats\": {\"count\": \"52933\", \"mean\": \"40271.88\", \"stddev\": \"25397.41\", \"min\": \"13472.0\", \"max\": \"94919.0\", \"missing\": \"0\"}, \"transformation\": [{\"transformation\": \"novalue\", \"selectedAsDefault\": 1}], \"updatedLabel\": \"DiagnosisCodeID1\"}, {\"transformationsData\": [{\"transformation_label\": \"novalue\"}], \"feature\": \"LoadYear\", \"transformation\": [{\"transformation\": \"novalue\", \"selectedAsDefault\": 1}], \"type\": \"numeric\", \"replaceby\": \"mean\", \"selected\": \"True\", \"stats\": {\"count\": \"52933\", \"mean\": \"2020.0\", \"stddev\": \"0.0\", \"min\": \"2020\", \"max\": \"2020\", \"missing\": \"0\"}, \"updatedLabel\": \"LoadYear\"}, {\"transformationsData\": [{\"transformation_label\": \"novalue\"}], \"feature\": \"LoadMonth\", \"transformation\": [{\"transformation\": \"novalue\", \"selectedAsDefault\": 1}], \"type\": \"numeric\", \"replaceby\": \"mean\", \"selected\": \"True\", \"stats\": {\"count\": \"52933\", \"mean\": \"7.0\", \"stddev\": \"0.0\", \"min\": \"7\", \"max\": \"7\", \"missing\": \"0\"}, \"updatedLabel\": \"LoadMonth\"}, {\"transformationsData\": [{\"transformation_label\": \"novalue\"}], \"feature\": \"LoadWeek\", \"transformation\": [{\"transformation\": \"novalue\", \"selectedAsDefault\": 1}], \"type\": \"numeric\", \"replaceby\": \"mean\", \"selected\": \"True\", \"stats\": {\"count\": \"52933\", \"mean\": \"28.06\", \"stddev\": \"0.35\", \"min\": \"28\", \"max\": \"31\", \"missing\": \"0\"}, \"updatedLabel\": \"LoadWeek\"}, {\"transformationsData\": [{\"transformation_label\": \"novalue\"}], \"feature\": \"LoadDay\", \"transformation\": [{\"transformation\": \"novalue\", \"selectedAsDefault\": 1}], \"type\": \"numeric\", \"replaceby\": \"mean\", \"selected\": \"True\", \"stats\": {\"count\": \"52933\", \"mean\": \"9.39\", \"stddev\": \"2.39\", \"min\": \"9\", \"max\": \"29\", \"missing\": \"0\"}, \"updatedLabel\": \"LoadDay\"}, {\"transformationsData\": [{\"transformation_label\": \"novalue\"}], \"feature\": \"LoadDayofweek\", \"transformation\": [{\"transformation\": \"novalue\", \"selectedAsDefault\": 1}], \"type\": \"numeric\", \"replaceby\": \"mean\", \"selected\": \"True\", \"stats\": {\"count\": \"52933\", \"mean\": \"3.0\", \"stddev\": \"0.39\", \"min\": \"0\", \"max\": \"6\", \"missing\": \"0\"}, \"updatedLabel\": \"LoadDayofweek\"}, {\"transformationsData\": [{\"transformation_label\": \"novalue\"}], \"feature\": \"LoadDayofyear\", \"transformation\": [{\"transformation\": \"novalue\", \"selectedAsDefault\": 1}], \"type\": \"numeric\", \"replaceby\": \"mean\", \"selected\": \"True\", \"stats\": {\"count\": \"52933\", \"mean\": \"191.39\", \"stddev\": \"2.39\", \"min\": \"191\", \"max\": \"211\", \"missing\": \"0\"}, \"updatedLabel\": \"LoadDayofyear\"}, {\"transformationsData\": [{\"transformation_label\": \"novalue\"}], \"feature\": \"DateOfServiceYear\", \"transformation\": [{\"transformation\": \"novalue\", \"selectedAsDefault\": 1}], \"type\": \"numeric\", \"replaceby\": \"mean\", \"selected\": \"True\", \"stats\": {\"count\": \"52933\", \"mean\": \"2019.97\", \"stddev\": \"0.18\", \"min\": \"2017\", \"max\": \"2020\", \"missing\": \"0\"}, \"updatedLabel\": \"DateOfServiceYear\"}, {\"transformationsData\": [{\"transformation_label\": \"novalue\"}], \"feature\": \"DateOfServiceMonth\", \"transformation\": [{\"transformation\": \"novalue\", \"selectedAsDefault\": 1}], \"type\": \"numeric\", \"replaceby\": \"mean\", \"selected\": \"True\", \"stats\": {\"count\": \"52933\", \"mean\": \"3.04\", \"stddev\": \"2.1\", \"min\": \"1\", \"max\": \"12\", \"missing\": \"0\"}, \"updatedLabel\": \"DateOfServiceMonth\"}, {\"transformationsData\": [{\"transformation_label\": \"novalue\"}], \"feature\": \"DateOfServiceWeek\", \"transformation\": [{\"transformation\": \"novalue\", \"selectedAsDefault\": 1}], \"type\": \"numeric\", \"replaceby\": \"mean\", \"selected\": \"True\", \"stats\": {\"count\": \"52933\", \"mean\": \"11.4\", \"stddev\": \"8.3\", \"min\": \"1\", \"max\": \"52\", \"missing\": \"0\"}, \"updatedLabel\": \"DateOfServiceWeek\"}, {\"transformationsData\": [{\"transformation_label\": \"novalue\"}], \"feature\": \"DateOfServiceDay\", \"transformation\": [{\"transformation\": \"novalue\", \"selectedAsDefault\": 1}], \"type\": \"numeric\", \"replaceby\": \"mean\", \"selected\": \"True\", \"stats\": {\"count\": \"52933\", \"mean\": \"15.67\", \"stddev\": \"8.6\", \"min\": \"1\", \"max\": \"31\", \"missing\": \"0\"}, \"updatedLabel\": \"DateOfServiceDay\"}, {\"transformationsData\": [{\"transformation_label\": \"novalue\"}], \"feature\": \"DateOfServiceDayofweek\", \"transformation\": [{\"transformation\": \"novalue\", \"selectedAsDefault\": 1}], \"type\": \"numeric\", \"replaceby\": \"mean\", \"selected\": \"True\", \"stats\": {\"count\": \"52933\", \"mean\": \"1.95\", \"stddev\": \"1.43\", \"min\": \"0\", \"max\": \"6\", \"missing\": \"0\"}, \"updatedLabel\": \"DateOfServiceDayofweek\"}, {\"transformationsData\": [{\"transformation_label\": \"novalue\"}], \"feature\": \"DateOfServiceDayofyear\", \"transformation\": [{\"transformation\": \"novalue\", \"selectedAsDefault\": 1}], \"type\": \"numeric\", \"replaceby\": \"mean\", \"selected\": \"True\", \"stats\": {\"count\": \"52933\", \"mean\": \"77.66\", \"stddev\": \"65.0\", \"min\": \"1\", \"max\": \"365\", \"missing\": \"0\"}, \"updatedLabel\": \"DateOfServiceDayofyear\"}, {\"transformationsData\": [{\"transformation_label\": \"novalue\"}], \"feature\": \"DateOfEntryYear\", \"transformation\": [{\"transformation\": \"novalue\", \"selectedAsDefault\": 1}], \"type\": \"numeric\", \"replaceby\": \"mean\", \"selected\": \"True\", \"stats\": {\"count\": \"52933\", \"mean\": \"2020.0\", \"stddev\": \"0.0\", \"min\": \"2020\", \"max\": \"2020\", \"missing\": \"0\"}, \"updatedLabel\": \"DateOfEntryYear\"}, {\"transformationsData\": [{\"transformation_label\": \"novalue\"}], \"feature\": \"DateOfEntryMonth\", \"transformation\": [{\"transformation\": \"novalue\", \"selectedAsDefault\": 1}], \"type\": \"numeric\", \"replaceby\": \"mean\", \"selected\": \"True\", \"stats\": {\"count\": \"52933\", \"mean\": \"2.81\", \"stddev\": \"1.44\", \"min\": \"1\", \"max\": \"5\", \"missing\": \"0\"}, \"updatedLabel\": \"DateOfEntryMonth\"}, {\"transformationsData\": [{\"transformation_label\": \"novalue\"}], \"feature\": \"DateOfEntryWeek\", \"transformation\": [{\"transformation\": \"novalue\", \"selectedAsDefault\": 1}], \"type\": \"numeric\", \"replaceby\": \"mean\", \"selected\": \"True\", \"stats\": {\"count\": \"52933\", \"mean\": \"10.99\", \"stddev\": \"6.29\", \"min\": \"1\", \"max\": \"22\", \"missing\": \"0\"}, \"updatedLabel\": \"DateOfEntryWeek\"}, {\"transformationsData\": [{\"transformation_label\": \"novalue\"}], \"feature\": \"DateOfEntryDay\", \"transformation\": [{\"transformation\": \"novalue\", \"selectedAsDefault\": 1}], \"type\": \"numeric\", \"replaceby\": \"mean\", \"selected\": \"True\", \"stats\": {\"count\": \"52933\", \"mean\": \"16.06\", \"stddev\": \"8.57\", \"min\": \"1\", \"max\": \"31\", \"missing\": \"0\"}, \"updatedLabel\": \"DateOfEntryDay\"}, {\"transformationsData\": [{\"transformation_label\": \"novalue\"}], \"feature\": \"DateOfEntryDayofweek\", \"transformation\": [{\"transformation\": \"novalue\", \"selectedAsDefault\": 1}], \"type\": \"numeric\", \"replaceby\": \"mean\", \"selected\": \"True\", \"stats\": {\"count\": \"52933\", \"mean\": \"2.07\", \"stddev\": \"1.52\", \"min\": \"0\", \"max\": \"6\", \"missing\": \"0\"}, \"updatedLabel\": \"DateOfEntryDayofweek\"}, {\"transformationsData\": [{\"transformation_label\": \"novalue\"}], \"feature\": \"DateOfEntryDayofyear\", \"transformation\": [{\"transformation\": \"novalue\", \"selectedAsDefault\": 1}], \"type\": \"numeric\", \"replaceby\": \"mean\", \"selected\": \"True\", \"stats\": {\"count\": \"52933\", \"mean\": \"71.03\", \"stddev\": \"44.05\", \"min\": \"1\", \"max\": \"152\", \"missing\": \"0\"}, \"updatedLabel\": \"DateOfEntryDayofyear\"}]}))\n",
    "\n",
    "\t#transformationPostExecutionHook(manualfe)\n",
    "\n",
    "except Exception as ex: \n",
    "\tlogging.error(ex)\n"
   ]
  },
  {
   "cell_type": "markdown",
   "metadata": {},
   "source": [
    "***TRAIN MODEL***"
   ]
  },
  {
   "cell_type": "code",
   "execution_count": null,
   "metadata": {},
   "outputs": [],
   "source": [
    "#%run lastpaymentmanuallrHooks.ipynb\n",
    "try:\n",
    "\t#mlPreExecutionHook()\n",
    "\n",
    "\tdataAutoML=linear_regression(manualfe, [\"_c0\", \"first_decision\", \"CPTCodeID\", \"FacilityID\", \"ProviderID\", \"PayerId\", \"DepartmentID\", \"DiagnosisCodeID1\", \"LoadYear\", \"LoadMonth\", \"LoadWeek\", \"LoadDay\", \"LoadDayofweek\", \"LoadDayofyear\", \"DateOfServiceYear\", \"DateOfServiceMonth\", \"DateOfServiceWeek\", \"DateOfServiceDay\", \"DateOfServiceDayofweek\", \"DateOfServiceDayofyear\", \"DateOfEntryYear\", \"DateOfEntryMonth\", \"DateOfEntryWeek\", \"DateOfEntryDay\", \"DateOfEntryDayofweek\", \"DateOfEntryDayofyear\"], \"last_decision\")\n",
    "\n",
    "\t#mlPostExecutionHook(dataAutoML)\n",
    "\n",
    "except Exception as ex: \n",
    "\tlogging.error(ex)\n"
   ]
  }
 ],
 "metadata": {},
 "nbformat": 4,
 "nbformat_minor": 4
}
